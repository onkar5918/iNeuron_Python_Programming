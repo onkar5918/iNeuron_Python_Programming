{
 "cells": [
  {
   "cell_type": "markdown",
   "metadata": {},
   "source": [
    "#### 1.\tWrite a Python Program to Find the Factorial of a Number?"
   ]
  },
  {
   "cell_type": "code",
   "execution_count": 1,
   "metadata": {},
   "outputs": [
    {
     "name": "stdout",
     "output_type": "stream",
     "text": [
      "Enter the number for factorial:4\n",
      "Factorial of given number is:  24\n"
     ]
    }
   ],
   "source": [
    "num=int(input(\"Enter the number for factorial:\"))\n",
    "def fact(x):\n",
    "    return 1 if x<=1 else x*fact(x-1)\n",
    "\n",
    "print(\"Factorial of given number is: \",fact(num))"
   ]
  },
  {
   "cell_type": "markdown",
   "metadata": {},
   "source": [
    "#### 2.\tWrite a Python Program to Display the multiplication Table?"
   ]
  },
  {
   "cell_type": "code",
   "execution_count": 2,
   "metadata": {},
   "outputs": [
    {
     "name": "stdout",
     "output_type": "stream",
     "text": [
      "1\t2\t3\t4\t5\t6\t7\t8\t9\t10\t\n",
      "\n",
      "2\t4\t6\t8\t10\t12\t14\t16\t18\t20\t\n",
      "\n",
      "3\t6\t9\t12\t15\t18\t21\t24\t27\t30\t\n",
      "\n",
      "4\t8\t12\t16\t20\t24\t28\t32\t36\t40\t\n",
      "\n",
      "5\t10\t15\t20\t25\t30\t35\t40\t45\t50\t\n",
      "\n",
      "6\t12\t18\t24\t30\t36\t42\t48\t54\t60\t\n",
      "\n",
      "7\t14\t21\t28\t35\t42\t49\t56\t63\t70\t\n",
      "\n",
      "8\t16\t24\t32\t40\t48\t56\t64\t72\t80\t\n",
      "\n",
      "9\t18\t27\t36\t45\t54\t63\t72\t81\t90\t\n",
      "\n",
      "10\t20\t30\t40\t50\t60\t70\t80\t90\t100\t\n",
      "\n"
     ]
    }
   ],
   "source": [
    "for i in range(1,11):\n",
    "    for j in range(1,11):\n",
    "        print(i*j,end=\"\\t\")\n",
    "    print(\"\\n\")"
   ]
  },
  {
   "cell_type": "markdown",
   "metadata": {},
   "source": [
    "#### 3.\tWrite a Python Program to Print the Fibonacci sequence?"
   ]
  },
  {
   "cell_type": "code",
   "execution_count": 5,
   "metadata": {},
   "outputs": [
    {
     "name": "stdout",
     "output_type": "stream",
     "text": [
      "Enter the number for Fibonacci sequence : 11\n",
      "[0, 1, 1, 2, 3, 5, 8, 13, 21, 34, 55]\n"
     ]
    }
   ],
   "source": [
    "x=int(input(\"Enter the number for Fibonacci sequence : \"))\n",
    "def fib2(num):\n",
    "        fir=0\n",
    "        sec=1\n",
    "        res=[]\n",
    "        for i in range(num):\n",
    "            res.append(fir)\n",
    "            fin=fir\n",
    "            fir=sec\n",
    "            sec=fin+fir\n",
    "        return res\n",
    "\n",
    "print(fib2(x))"
   ]
  },
  {
   "cell_type": "markdown",
   "metadata": {},
   "source": [
    "#### 4.\tWrite a Python Program to Check Armstrong Number?"
   ]
  },
  {
   "cell_type": "code",
   "execution_count": 54,
   "metadata": {},
   "outputs": [
    {
     "name": "stdout",
     "output_type": "stream",
     "text": [
      "Please enter the Number:153\n",
      "Given number is Armstrong Number\n"
     ]
    }
   ],
   "source": [
    "num=input(\"Please enter the Number:\")\n",
    "final=[]\n",
    "for i in range(0,len(num)):\n",
    "    final.append(int(num[i])**len(num))\n",
    "total=sum(final)\n",
    "if total==int(num):\n",
    "    print(\"Given number is Armstrong Number\")\n",
    "else:\n",
    "    print(\"The number is not Armstrong Number\")\n",
    "   "
   ]
  },
  {
   "cell_type": "markdown",
   "metadata": {},
   "source": [
    "#### 5.\tWrite a Python Program to Find Armstrong Number in an Interval?"
   ]
  },
  {
   "cell_type": "code",
   "execution_count": 26,
   "metadata": {},
   "outputs": [
    {
     "name": "stdout",
     "output_type": "stream",
     "text": [
      "Enter the lower limit of interval: 100\n",
      "Enter the higher limit of interval: 2000\n",
      "[153, 370, 370, 371, 407, 1634]\n"
     ]
    }
   ],
   "source": [
    "lower=int(input(\"Enter the lower limit of interval: \"))\n",
    "higher=int(input(\"Enter the higher limit of interval: \"))\n",
    "armstrong=[]\n",
    "for i in range(lower,higher):\n",
    "    final=[]\n",
    "    for j in range(0,len(str(i))):\n",
    "        num=str(i)\n",
    "        final.append(int(num[j])**len(num))\n",
    "        total=sum(final)\n",
    "        if total==int(num):\n",
    "            armstrong.append(total)\n",
    "print(armstrong) \n",
    "    "
   ]
  },
  {
   "cell_type": "markdown",
   "metadata": {},
   "source": [
    "#### 6.\tWrite a Python Program to Find the Sum of Natural Numbers?"
   ]
  },
  {
   "cell_type": "code",
   "execution_count": 31,
   "metadata": {},
   "outputs": [
    {
     "name": "stdout",
     "output_type": "stream",
     "text": [
      "Enter the number till you want sum of Natural numbers10\n",
      "Sum of Natural number till 10 is :55\n",
      "[1, 3, 6, 10, 15, 21, 28, 36, 45, 55]\n"
     ]
    }
   ],
   "source": [
    "num=int(input(\"Enter the number till you want sum of Natural numbers: \"))\n",
    "natural_numbers=[]\n",
    "total=0\n",
    "for i in range(1,num+1):\n",
    "    total+=i\n",
    "    natural_numbers.append(total)\n",
    "print(f\"Sum of Natural number till {num} is :{natural_numbers[-1]}\")\n",
    "\n",
    "print(natural_numbers)\n"
   ]
  },
  {
   "cell_type": "code",
   "execution_count": null,
   "metadata": {},
   "outputs": [],
   "source": []
  },
  {
   "cell_type": "code",
   "execution_count": null,
   "metadata": {},
   "outputs": [],
   "source": []
  }
 ],
 "metadata": {
  "kernelspec": {
   "display_name": "Python 3",
   "language": "python",
   "name": "python3"
  },
  "language_info": {
   "codemirror_mode": {
    "name": "ipython",
    "version": 3
   },
   "file_extension": ".py",
   "mimetype": "text/x-python",
   "name": "python",
   "nbconvert_exporter": "python",
   "pygments_lexer": "ipython3",
   "version": "3.7.6"
  }
 },
 "nbformat": 4,
 "nbformat_minor": 4
}
