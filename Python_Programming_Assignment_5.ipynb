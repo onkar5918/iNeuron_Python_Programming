{
 "cells": [
  {
   "cell_type": "markdown",
   "metadata": {},
   "source": [
    "#### 1.\tWrite a Python Program to Find LCM?"
   ]
  },
  {
   "cell_type": "code",
   "execution_count": 8,
   "metadata": {},
   "outputs": [
    {
     "name": "stdout",
     "output_type": "stream",
     "text": [
      "Enter First Number:15\n",
      "Enter Second Number:20\n",
      "L.C.M of 15 and 20 is :  60\n"
     ]
    }
   ],
   "source": [
    "num1=int(input(\"Enter First Number:\"))\n",
    "num2=int(input(\"Enter Second Number:\"))\n",
    "def gcd(x,y):\n",
    "    if x==0:\n",
    "        return y\n",
    "    return gcd(y%x,x)\n",
    "def find_lcm(x,y):\n",
    "    return (x*y)/gcd(x,y)\n",
    "\n",
    "print(f\"L.C.M of {num1} and {num2} is : \",int(find_lcm(num1,num2)))\n"
   ]
  },
  {
   "cell_type": "markdown",
   "metadata": {},
   "source": [
    "#### 2.\tWrite a Python Program to Find HCF?"
   ]
  },
  {
   "cell_type": "code",
   "execution_count": 10,
   "metadata": {},
   "outputs": [
    {
     "name": "stdout",
     "output_type": "stream",
     "text": [
      "Enter First Number:54\n",
      "Enter Second Number:24\n",
      "The H.C.F. is : 216\n"
     ]
    }
   ],
   "source": [
    "num1=int(input(\"Enter First Number:\"))\n",
    "num2=int(input(\"Enter Second Number:\"))\n",
    "def find_hcf(x,y):\n",
    "    if x>y:\n",
    "        higher=x\n",
    "    else:\n",
    "        higher=y\n",
    "    while(True):\n",
    "        if higher %x==0 and higher%y==0:\n",
    "            hcf=higher\n",
    "            break\n",
    "        higher+=1\n",
    "    return hcf\n",
    "print(\"The H.C.F. is :\",find_hcf(num1,num2))"
   ]
  },
  {
   "cell_type": "markdown",
   "metadata": {},
   "source": [
    "#### 3.\tWrite a Python Program to Convert Decimal to Binary, Octal and Hexadecimal?"
   ]
  },
  {
   "cell_type": "code",
   "execution_count": 12,
   "metadata": {},
   "outputs": [
    {
     "name": "stdout",
     "output_type": "stream",
     "text": [
      "Enter the Number :10\n",
      "Binary value of 10 is: 0b1010\n",
      "Octal value of 10 is: 0o12\n",
      "Hexadecimal value of 10 is: 0xa\n"
     ]
    }
   ],
   "source": [
    "\n",
    "num=int(input(\"Enter the Number :\"))\n",
    "\n",
    "# def decimal_to_binary(x):\n",
    "#     if x>=1:\n",
    "#         decimal_to_binary(x//2)\n",
    "#         print(x%2)\n",
    "# decimal_to_binary(num)\n",
    "\n",
    "print(f\"Binary value of {num} is: {bin(num)}\")\n",
    "print(f\"Octal value of {num} is: {oct(num)}\")\n",
    "print(f\"Hexadecimal value of {num} is: {hex(num)}\")\n"
   ]
  },
  {
   "cell_type": "markdown",
   "metadata": {},
   "source": [
    "#### 4.\tWrite a Python Program To Find ASCII value of a character?"
   ]
  },
  {
   "cell_type": "code",
   "execution_count": 4,
   "metadata": {},
   "outputs": [
    {
     "name": "stdout",
     "output_type": "stream",
     "text": [
      "Enter the Character: A\n",
      "Ascii value of CharacterA is :65\n"
     ]
    }
   ],
   "source": [
    "char=input(\"Enter the Character: \")\n",
    "\n",
    "print(f\"Ascii value of Character {char} is: {ord(char)}\")\n"
   ]
  },
  {
   "cell_type": "markdown",
   "metadata": {},
   "source": [
    "#### 5.\tWrite a Python Program to Make a Simple Calculator with 4 basic mathematical operations?"
   ]
  },
  {
   "cell_type": "code",
   "execution_count": null,
   "metadata": {},
   "outputs": [],
   "source": [
    "def alltotal(num1, num2):\n",
    "    print(f\"Sum: {num1 + num2}\")\n",
    "    operation()\n",
    "\n",
    "def allsub(num1, num2):\n",
    "    print(f\"Sub: {num1 - num2}\")\n",
    "    operation()\n",
    "def Multi(num1, num2):\n",
    "    print(f\"Multi: {num1 * num2}\")\n",
    "    operation()\n",
    "def Div(num1, num2):\n",
    "    print(f\"Div: {num1 / num2}\")\n",
    "    operation()\n",
    "\n",
    "def operation():\n",
    "    opt=int(input(\"1.Addition\\n2.Subtraction\\n3.Multiplication\\n4.Division\\n5.Exit\"))\n",
    "    if opt not in range(1,6):\n",
    "        print(\"Please choose proper operation\")\n",
    "        operation()\n",
    "    else:\n",
    "        if opt == 1:\n",
    "            input_num()\n",
    "            alltotal(num1,num2)\n",
    "\n",
    "        if opt==2:\n",
    "            input_num()\n",
    "            allsub(num1,num2)\n",
    "        if opt==3:\n",
    "            input_num()\n",
    "            Multi(num1,num2)\n",
    "        if opt==4:\n",
    "            input_num()\n",
    "            Div(num1,num2)\n",
    "        if opt==5:\n",
    "            print(\"Program ended successfully\")\n",
    "            return\n",
    "\n",
    "def input_num():\n",
    "    num1=int(input(\"Enter number 1 : \"))\n",
    "    num2=int(input(\"Enter number 2 : \"))\n",
    "    \n",
    "\n",
    "operation()"
   ]
  }
 ],
 "metadata": {
  "kernelspec": {
   "display_name": "Python 3",
   "language": "python",
   "name": "python3"
  },
  "language_info": {
   "codemirror_mode": {
    "name": "ipython",
    "version": 3
   },
   "file_extension": ".py",
   "mimetype": "text/x-python",
   "name": "python",
   "nbconvert_exporter": "python",
   "pygments_lexer": "ipython3",
   "version": "3.7.6"
  }
 },
 "nbformat": 4,
 "nbformat_minor": 4
}
