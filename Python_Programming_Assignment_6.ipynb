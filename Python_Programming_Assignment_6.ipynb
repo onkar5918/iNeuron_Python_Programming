{
 "cells": [
  {
   "cell_type": "markdown",
   "metadata": {},
   "source": [
    "#### 1.\tWrite a Python Program to Display Fibonacci Sequence Using Recursion?\n",
    "\n"
   ]
  },
  {
   "cell_type": "code",
   "execution_count": 4,
   "metadata": {},
   "outputs": [
    {
     "name": "stdout",
     "output_type": "stream",
     "text": [
      "Enter the number for Fibonacci sequence : 8\n",
      "0\n",
      "1\n",
      "1\n",
      "2\n",
      "3\n",
      "5\n",
      "8\n",
      "13\n"
     ]
    }
   ],
   "source": [
    "x=int(input(\"Enter the number for Fibonacci sequence : \"))\n",
    "def fib2(num):\n",
    "    if num <=1:\n",
    "        return num\n",
    "    else:\n",
    "        return(fib2(num-1)+fib2(num-2))\n",
    "for i in range(x):\n",
    "    print(fib2(i))"
   ]
  },
  {
   "cell_type": "markdown",
   "metadata": {},
   "source": [
    "#### 2.\tWrite a Python Program to Find Factorial of Number Using Recursion?\n"
   ]
  },
  {
   "cell_type": "code",
   "execution_count": 6,
   "metadata": {},
   "outputs": [
    {
     "name": "stdout",
     "output_type": "stream",
     "text": [
      "Enter the number : 4\n",
      "Factorial of number 4 is 24\n"
     ]
    }
   ],
   "source": [
    "x=int(input(\"Enter the number : \"))\n",
    "def fact(num):\n",
    "    if num<=1:\n",
    "        return 1\n",
    "    else:\n",
    "        return num*fact(num-1)\n",
    "print(f\"Factorial of number {x} is {fact(x)}\")"
   ]
  },
  {
   "cell_type": "markdown",
   "metadata": {},
   "source": [
    "#### 3.\tWrite a Python Program to calculate your Body Mass Index?\n"
   ]
  },
  {
   "cell_type": "code",
   "execution_count": 19,
   "metadata": {},
   "outputs": [
    {
     "name": "stdout",
     "output_type": "stream",
     "text": [
      "Enter weight in kg: 70\n",
      "Enter height in centimeters: 170\n",
      "Your BMI:  24.2\n",
      "Healthy\n"
     ]
    }
   ],
   "source": [
    "weight=float(input(\"Enter weight in kg: \"))\n",
    "height=float(input(\"Enter height in centimeters: \"))\n",
    "height=height/100;\n",
    "def bmi(x,y):\n",
    "    return x/(y**2)\n",
    "bmi= bmi(weight,height)\n",
    "\n",
    "if bmi<=18.5:\n",
    "    print(\"Your BMI: \",format(bmi,'.1f'))\n",
    "    print(\"Underweight\")\n",
    "elif bmi >18.5 and bmi<=24.9:\n",
    "    print(\"Your BMI: \",format(bmi,'.1f'))\n",
    "    print(\"Healthy\")\n",
    "elif bmi>=25.0 and bmi<=29.9:\n",
    "    print(\"Your BMI: \",format(bmi,'.1f'))\n",
    "    print(\"Overweight\")\n",
    "else:\n",
    "    print(\"Your BMI: \",format(bmi,'.1f'))\n",
    "    print(\"Obese\")\n",
    "    \n",
    "    \n",
    "\n",
    "\n",
    "\n"
   ]
  },
  {
   "cell_type": "markdown",
   "metadata": {},
   "source": [
    "#### 4.\tWrite a Python Program to calculate the natural logarithm of any number?\n"
   ]
  },
  {
   "cell_type": "code",
   "execution_count": 20,
   "metadata": {},
   "outputs": [
    {
     "name": "stdout",
     "output_type": "stream",
     "text": [
      "Enter number : 2\n",
      "0.6933874625807412 0.6931471805599453\n"
     ]
    }
   ],
   "source": [
    "from math import log\n",
    "x=int(input(\"Enter number : \"))\n",
    "def n_log(x):\n",
    "    n=1000.0\n",
    "    return n*((x**(1/n))-1)\n",
    "print(n_log(x),log(x))\n"
   ]
  },
  {
   "cell_type": "markdown",
   "metadata": {},
   "source": [
    "#### 5.\tWrite a Python Program for cube sum of first n natural numbers?"
   ]
  },
  {
   "cell_type": "code",
   "execution_count": 25,
   "metadata": {},
   "outputs": [
    {
     "name": "stdout",
     "output_type": "stream",
     "text": [
      "Enter number: 5\n",
      "Total sum of cube : 225\n"
     ]
    }
   ],
   "source": [
    "num=int(input(\"Enter number: \"))\n",
    "def sum_of_cube(num):\n",
    "    if num<=1:\n",
    "        return num\n",
    "    else:\n",
    "        return num**3 + (sum_of_cube(num-1))\n",
    "print(\"Total sum of cube :\",sum_of_cube(num))"
   ]
  },
  {
   "cell_type": "code",
   "execution_count": null,
   "metadata": {},
   "outputs": [],
   "source": []
  }
 ],
 "metadata": {
  "kernelspec": {
   "display_name": "Python 3",
   "language": "python",
   "name": "python3"
  },
  "language_info": {
   "codemirror_mode": {
    "name": "ipython",
    "version": 3
   },
   "file_extension": ".py",
   "mimetype": "text/x-python",
   "name": "python",
   "nbconvert_exporter": "python",
   "pygments_lexer": "ipython3",
   "version": "3.7.6"
  }
 },
 "nbformat": 4,
 "nbformat_minor": 4
}
