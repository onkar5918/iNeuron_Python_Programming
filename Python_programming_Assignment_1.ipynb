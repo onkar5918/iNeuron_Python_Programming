{
 "cells": [
  {
   "cell_type": "markdown",
   "metadata": {},
   "source": [
    "#### 1.\tWrite a Python program to print \"Hello Python\"?"
   ]
  },
  {
   "cell_type": "code",
   "execution_count": 1,
   "metadata": {},
   "outputs": [
    {
     "name": "stdout",
     "output_type": "stream",
     "text": [
      "Hello Python\n"
     ]
    }
   ],
   "source": [
    "print(\"Hello Python\")"
   ]
  },
  {
   "cell_type": "markdown",
   "metadata": {},
   "source": [
    "#### 2.\tWrite a Python program to do arithmetical operations addition and division.?"
   ]
  },
  {
   "cell_type": "code",
   "execution_count": 10,
   "metadata": {},
   "outputs": [
    {
     "name": "stdout",
     "output_type": "stream",
     "text": [
      "Enter Two Numbers:3,4\n",
      "Enter your choice: 1 for Addition 2 for Division3\n",
      "Please enter correct choice\n"
     ]
    }
   ],
   "source": [
    "x,y=input(\"Enter Two Numbers:\").split(',')\n",
    "x=int(x)\n",
    "y=int(y)\n",
    "choice=int(input(\"Enter your choice: 1 for Addition 2 for Division\"))\n",
    "\n",
    "def mysum(a,b):\n",
    "    return a+b\n",
    "def mydiv(a,b):\n",
    "    return a/b\n",
    "\n",
    "if choice==1:\n",
    "    print(\"Addition of two numbers are:\",mysum(x,y))\n",
    "elif choice==2:\n",
    "    print(\"Division of two numbers are:\",mydiv(x,y))\n",
    "else:\n",
    "    print(\"Please enter correct choice\")\n"
   ]
  },
  {
   "cell_type": "markdown",
   "metadata": {},
   "source": [
    "#### 3.\tWrite a Python program to find the area of a triangle?"
   ]
  },
  {
   "cell_type": "code",
   "execution_count": 11,
   "metadata": {},
   "outputs": [
    {
     "name": "stdout",
     "output_type": "stream",
     "text": [
      "Enter the base:3\n",
      "Enter the height:4\n",
      "Area of Triange is : 6.0\n"
     ]
    }
   ],
   "source": [
    "base=float(input(\"Enter the base:\"))\n",
    "height=float(input(\"Enter the height:\"))\n",
    "\n",
    "print(\"Area of Triange is :\",(base*height)/2)"
   ]
  },
  {
   "cell_type": "markdown",
   "metadata": {},
   "source": [
    "#### 4.\tWrite a Python program to swap two variables?"
   ]
  },
  {
   "cell_type": "code",
   "execution_count": 12,
   "metadata": {},
   "outputs": [
    {
     "name": "stdout",
     "output_type": "stream",
     "text": [
      "Enter two variables3,4\n",
      "Values before swapping the variable x=3 and y=4\n",
      "Values After swapping the variable x=4 and y=3\n"
     ]
    }
   ],
   "source": [
    "x,y=input(\"Enter two variables\").split(',')\n",
    "x=int(x)\n",
    "y=int(y)\n",
    "print(f\"Values before swapping the variable x={x} and y={y}\")\n",
    "x=x+y\n",
    "y=x-y\n",
    "x=x-y\n",
    "print(f\"Values After swapping the variable x={x} and y={y}\")"
   ]
  },
  {
   "cell_type": "markdown",
   "metadata": {},
   "source": [
    "#### 5.\tWrite a Python program to generate a random number?"
   ]
  },
  {
   "cell_type": "code",
   "execution_count": 17,
   "metadata": {},
   "outputs": [
    {
     "name": "stdout",
     "output_type": "stream",
     "text": [
      "Random number 10\n"
     ]
    }
   ],
   "source": [
    "from random import shuffle\n",
    "list1=[i for i in range(1,11)]\n",
    "shuffle(list1)\n",
    "print(\"Random number\",list1[1])\n"
   ]
  },
  {
   "cell_type": "code",
   "execution_count": null,
   "metadata": {},
   "outputs": [],
   "source": []
  },
  {
   "cell_type": "code",
   "execution_count": null,
   "metadata": {},
   "outputs": [],
   "source": []
  }
 ],
 "metadata": {
  "kernelspec": {
   "display_name": "Python 3",
   "language": "python",
   "name": "python3"
  },
  "language_info": {
   "codemirror_mode": {
    "name": "ipython",
    "version": 3
   },
   "file_extension": ".py",
   "mimetype": "text/x-python",
   "name": "python",
   "nbconvert_exporter": "python",
   "pygments_lexer": "ipython3",
   "version": "3.7.6"
  }
 },
 "nbformat": 4,
 "nbformat_minor": 4
}
