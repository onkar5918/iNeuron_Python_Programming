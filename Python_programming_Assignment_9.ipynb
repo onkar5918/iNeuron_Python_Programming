{
 "cells": [
  {
   "cell_type": "markdown",
   "metadata": {},
   "source": [
    "#### 1.\tWrite a Python program to check if the given number is a Disarium Number?"
   ]
  },
  {
   "cell_type": "code",
   "execution_count": 7,
   "metadata": {},
   "outputs": [
    {
     "name": "stdout",
     "output_type": "stream",
     "text": [
      "Enter the number:175\n",
      "Given number 175 is an Disarium number\n"
     ]
    }
   ],
   "source": [
    "def cal_length(num):\n",
    "    length=0\n",
    "    while(num!=0):\n",
    "        length+=1\n",
    "        num=num//10\n",
    "    return length\n",
    "\n",
    "num=int(input(\"Enter the number:\"))\n",
    "copy_num=num\n",
    "final_num=num\n",
    "len1=cal_length(num)\n",
    "rem=total=0\n",
    "while(copy_num>0):\n",
    "    rem=copy_num%10\n",
    "    total+=int(rem**len1)\n",
    "    copy_num=copy_num//10\n",
    "    len1-=1\n",
    "\n",
    "if(total==num):\n",
    "    print(f'Given number {final_num} is an Disarium number')\n",
    "else:\n",
    "    print(f'Given number {final_num} is not an Disarium number')\n",
    "    \n",
    "    "
   ]
  },
  {
   "cell_type": "markdown",
   "metadata": {},
   "source": [
    "#### 2.\tWrite a Python program to print all disarium numbers between 1 to 100?"
   ]
  },
  {
   "cell_type": "code",
   "execution_count": 11,
   "metadata": {},
   "outputs": [
    {
     "name": "stdout",
     "output_type": "stream",
     "text": [
      "All Disarum numbers between 1 to 100 are as below\n",
      " [1, 2, 3, 4, 5, 6, 7, 8, 9, 89]\n"
     ]
    }
   ],
   "source": [
    "def cal_length(num):\n",
    "    length=0\n",
    "    while(num!=0):\n",
    "        length+=1\n",
    "        num=num//10\n",
    "    return length\n",
    "disarium_num=[]\n",
    "for i in range(1,101):\n",
    "    copy_num=i\n",
    "    len1=cal_length(i)\n",
    "    total=rem=0\n",
    "    while(copy_num>0):\n",
    "        rem=copy_num%10\n",
    "        total+=int(rem**len1)\n",
    "        copy_num//=10\n",
    "        len1-=1\n",
    "    if (total==i):\n",
    "        disarium_num.append(i)\n",
    "\n",
    "print(f'All Disarum numbers between 1 to 100 are as below\\n {disarium_num}')\n",
    "    "
   ]
  },
  {
   "cell_type": "markdown",
   "metadata": {},
   "source": [
    "#### 3.\tWrite a Python program to check if the given number is Happy Number?"
   ]
  },
  {
   "cell_type": "code",
   "execution_count": 16,
   "metadata": {},
   "outputs": [
    {
     "name": "stdout",
     "output_type": "stream",
     "text": [
      "Enter the number 28\n",
      "Given number 28 is Happy number\n"
     ]
    }
   ],
   "source": [
    "def check_happy_num(num):\n",
    "    rem=total=0\n",
    "    while(num>0):\n",
    "        rem=num%10\n",
    "        total+=int(rem*rem)\n",
    "        num//=10\n",
    "    return total\n",
    "my_num=int(input(\"Enter the number \"))\n",
    "result=my_num\n",
    "\n",
    "while(result!=1 and result!=4):\n",
    "    result=check_happy_num(result)\n",
    "\n",
    "if(result==1):\n",
    "    print(f\"Given number {my_num} is Happy number\")\n",
    "elif(result==4):\n",
    "    print(f\"Given number {my_num} is not an Happy number\")\n",
    "\n",
    "\n",
    "    \n"
   ]
  },
  {
   "cell_type": "markdown",
   "metadata": {},
   "source": [
    "#### 4.\tWrite a Python program to print all happy numbers between 1 and 100?"
   ]
  },
  {
   "cell_type": "code",
   "execution_count": 17,
   "metadata": {},
   "outputs": [
    {
     "name": "stdout",
     "output_type": "stream",
     "text": [
      "The Happy numbers between 1 to 100 are as below\n",
      " [1, 7, 10, 13, 19, 23, 28, 31, 32, 44, 49, 68, 70, 79, 82, 86, 91, 94, 97, 100]\n"
     ]
    }
   ],
   "source": [
    "def check_happy_num(num):\n",
    "    rem=total=0\n",
    "    while(num>0):\n",
    "        rem=num%10\n",
    "        total+=int(rem*rem)\n",
    "        num//=10\n",
    "    return total\n",
    "happy_num=[]\n",
    "for i in range(1,101):\n",
    "    result=i\n",
    "    while(result!=1 and result!=4):\n",
    "        result=check_happy_num(result)\n",
    "    \n",
    "    if (result==1):\n",
    "        happy_num.append(i)\n",
    "        \n",
    "print(f\"The Happy numbers between 1 to 100 are as below\\n {happy_num}\")"
   ]
  },
  {
   "cell_type": "markdown",
   "metadata": {},
   "source": [
    "#### 5.\tWrite a Python program to determine whether the given number is a Harshad Number?"
   ]
  },
  {
   "cell_type": "code",
   "execution_count": 19,
   "metadata": {},
   "outputs": [
    {
     "name": "stdout",
     "output_type": "stream",
     "text": [
      "Enter the Number 156\n",
      "156 is an Harshad Number\n"
     ]
    }
   ],
   "source": [
    "def sum_of_digits(num):\n",
    "    total=rem=0\n",
    "    while(num!=0):\n",
    "        rem=num%10\n",
    "        total+=rem\n",
    "        num//=10\n",
    "    return total\n",
    "my_num=int(input(\"Enter the Number \"))\n",
    "total=sum_of_digits(my_num)\n",
    "if(my_num%total==0):\n",
    "    print(f'{my_num} is an Harshad Number')\n",
    "else:\n",
    "    print(f\"{my_num} is not an Harshad Number\")\n",
    "          "
   ]
  },
  {
   "cell_type": "markdown",
   "metadata": {},
   "source": [
    "#### 6.\tWrite a Python program to print all pronic numbers between 1 and 100?"
   ]
  },
  {
   "cell_type": "code",
   "execution_count": 21,
   "metadata": {},
   "outputs": [
    {
     "name": "stdout",
     "output_type": "stream",
     "text": [
      "All Pronic numbers between 1 to 100 are as below\n",
      "[2, 6, 12, 20, 30, 42, 56, 72, 90]\n"
     ]
    }
   ],
   "source": [
    "import math\n",
    "pronic=[]\n",
    "root=total=0\n",
    "for i in range(1,101):\n",
    "    \n",
    "    root=int(math.sqrt(i))\n",
    "    total=root*(root+1)\n",
    "    if (total==i):\n",
    "        pronic.append(i)\n",
    "print(f\"All Pronic numbers between 1 to 100 are as below\\n{pronic}\")"
   ]
  },
  {
   "cell_type": "code",
   "execution_count": null,
   "metadata": {},
   "outputs": [],
   "source": []
  }
 ],
 "metadata": {
  "kernelspec": {
   "display_name": "Python 3",
   "language": "python",
   "name": "python3"
  },
  "language_info": {
   "codemirror_mode": {
    "name": "ipython",
    "version": 3
   },
   "file_extension": ".py",
   "mimetype": "text/x-python",
   "name": "python",
   "nbconvert_exporter": "python",
   "pygments_lexer": "ipython3",
   "version": "3.7.6"
  }
 },
 "nbformat": 4,
 "nbformat_minor": 4
}
